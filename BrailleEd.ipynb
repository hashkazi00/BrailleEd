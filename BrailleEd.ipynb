{
 "cells": [
  {
   "cell_type": "code",
   "execution_count": 1,
   "metadata": {},
   "outputs": [],
   "source": [
    "import gi\n",
    "gi.require_version(\"Gtk\", \"3.0\")\n",
    "from gi.repository import Gtk"
   ]
  },
  {
   "cell_type": "code",
   "execution_count": 1,
   "metadata": {},
   "outputs": [],
   "source": [
    "window = Gtk.Window(title=\"Hello World\")\n",
    "window.show()\n",
    "window.connect(\"destroy\", Gtk.main_quit)\n",
    "Gtk.main()"
   ]
  },
  {
   "cell_type": "code",
   "execution_count": 2,
   "metadata": {},
   "outputs": [
    {
     "name": "stdout",
     "output_type": "stream",
     "text": [
      "b\n"
     ]
    }
   ],
   "source": [
    "import pyttsx3\n",
    "engine = pyttsx3.init()\n",
    "engine.setProperty('rate', 150)    \n",
    "engine.setProperty('volume', 1)  \n",
    "engine.say(\"Press First key for A\")\n",
    "engine.runAndWait()\n",
    "speak=input()\n",
    "\n",
    "if(speak==\"a\" or speak==\"A\"):\n",
    "    engine.say(speak)\n",
    "    engine.say(\"Correct Key\")\n",
    "    engine.runAndWait()\n",
    "else:\n",
    "    engine.say(\"Incorrect Key\")\n",
    "    engine.runAndWait()"
   ]
  },
  {
   "cell_type": "code",
   "execution_count": null,
   "metadata": {},
   "outputs": [],
   "source": [
    "import gi\n",
    "import pyttsx3\n",
    "gi.require_version(\"Gtk\", \"3.0\")\n",
    "from gi.repository import Gtk,Gdk\n",
    "engine = pyttsx3.init()\n",
    "engine.setProperty('rate', 150)    \n",
    "engine.setProperty('volume', 1)\n",
    "import threading\n",
    "\n",
    "class BrailleEd(Gtk.Window):\n",
    "    def __init__(self):\n",
    "        Gtk.Window.__init__(self,title=\"BrailleEd\")\n",
    "        self.set_border_width(16)\n",
    "        self.set_default_size(640,480)\n",
    "        self.set_resizable(False)\n",
    "        self.set_icon_from_file(\"/Users/hashkazi/Desktop/screen.png\")\n",
    "        \n",
    "        self.vbox = Gtk.Box(orientation=Gtk.Orientation.VERTICAL)\n",
    "        self.add(self.vbox)\n",
    "        \n",
    "        hb = Gtk.HeaderBar()\n",
    "        hb.props.title = \"BrailleEd\"\n",
    "        self.set_titlebar(hb)\n",
    "        \n",
    "        self.b1 = Gtk.Button(label=\"KEY1\")\n",
    "        self.b1.connect('clicked', self.Start)\n",
    "        self.vbox.pack_start(self.b1, True, True, 0)\n",
    "        \n",
    "    def Start(self,widget,duration=20):\n",
    "        engine = pyttsx3.init()\n",
    "        engine.setProperty('rate', 150)    \n",
    "        engine.setProperty('volume', 1)  \n",
    "        engine.say(\"Press First key for A\")\n",
    "        engine.runAndWait()\n",
    "        speak=input()\n",
    "        \n",
    "        t=threading.Thread(target=Start)\n",
    "        t.start()\n",
    "\n",
    "        if(speak==\"a\" or speak==\"A\"):\n",
    "            engine.say(speak)\n",
    "            engine.say(\"Correct Key\")\n",
    "            engine.runAndWait()\n",
    "            \n",
    "        else:\n",
    "            engine.say(\"Incorrect Key\")\n",
    "            engine.runAndWait()\n",
    "        \n",
    "        \n",
    "        \n",
    "        \n",
    "css = b\"\"\"\n",
    "window.background {\n",
    "    background: #000000;\n",
    "}\n",
    "headerbar, headerbar button { \n",
    "    background: #FFFFFF;\n",
    "    color: black;\n",
    "}\n",
    "\"\"\"\n",
    "\n",
    "style_provider = Gtk.CssProvider()\n",
    "style_provider.load_from_data(css)\n",
    "Gtk.StyleContext.add_provider_for_screen(\n",
    "    Gdk.Screen.get_default(),\n",
    "    style_provider,\n",
    "    Gtk.STYLE_PROVIDER_PRIORITY_USER\n",
    ")\n",
    "        \n",
    "        \n",
    "        \n",
    "        \n",
    "        \n",
    "win=BrailleEd()  \n",
    "win.show_all()\n",
    "Gtk.main()"
   ]
  },
  {
   "cell_type": "code",
   "execution_count": null,
   "metadata": {},
   "outputs": [],
   "source": [
    "\n"
   ]
  },
  {
   "cell_type": "code",
   "execution_count": null,
   "metadata": {},
   "outputs": [],
   "source": [
    "win=BrailleEd()"
   ]
  },
  {
   "cell_type": "code",
   "execution_count": null,
   "metadata": {},
   "outputs": [
    {
     "name": "stdout",
     "output_type": "stream",
     "text": [
      "Sahil\n",
      "Sahil\n",
      "Sahil\n",
      "Sahil\n"
     ]
    }
   ],
   "source": [
    "import gi\n",
    "from gi.repository import Gtk\n",
    "import time\n",
    "import threading\n",
    "\n",
    "class MyWindow(Gtk.Window):\n",
    "    def __init__(self):\n",
    "        Gtk.Window.__init__(self,title=\"Hello World\")\n",
    "        \n",
    "        self.vbox = Gtk.Box(orientation=Gtk.Orientation.VERTICAL)\n",
    "        self.add(self.vbox)\n",
    "        \n",
    "        self.label = Gtk.Label()\n",
    "        self.label.set_markup('<b>HELLO<b>')\n",
    "        self.vbox.pack_start(self.label, True, True, 0)\n",
    "        \n",
    "        self.b1 = Gtk.Button(label=\"KEY1\")\n",
    "        self.b1.connect('clicked', self.KEY1)\n",
    "        self.vbox.pack_start(self.b1, True, True, 0)\n",
    "        \n",
    "        self.b2 = Gtk.Button(label=\"KEY2\")\n",
    "        self.b2.connect('clicked', self.KEY1, 20)\n",
    "        self.vbox.pack_start(self.b2, True, True, 0)\n",
    "    \n",
    "    def KEY1(self,widget,duration=0):\n",
    "        print('Sahil')\n",
    "        time.sleep(duration)\n",
    "        \n",
    "win=MyWindow()  \n",
    "win.connect(\"destroy\", Gtk.main_quit)\n",
    "win.show_all()\n",
    "Gtk.main()\n",
    "        \n",
    "        \n",
    "    "
   ]
  },
  {
   "cell_type": "code",
   "execution_count": null,
   "metadata": {},
   "outputs": [],
   "source": []
  }
 ],
 "metadata": {
  "kernelspec": {
   "display_name": "Python 3",
   "language": "python",
   "name": "python3"
  },
  "language_info": {
   "codemirror_mode": {
    "name": "ipython",
    "version": 3
   },
   "file_extension": ".py",
   "mimetype": "text/x-python",
   "name": "python",
   "nbconvert_exporter": "python",
   "pygments_lexer": "ipython3",
   "version": "3.7.7"
  }
 },
 "nbformat": 4,
 "nbformat_minor": 2
}
